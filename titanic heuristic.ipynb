{
 "cells": [
  {
   "cell_type": "code",
   "execution_count": 1,
   "metadata": {},
   "outputs": [],
   "source": [
    "import numpy as np\n",
    "import pandas as pd\n",
    "import statsmodels.api as sm"
   ]
  },
  {
   "cell_type": "code",
   "execution_count": 2,
   "metadata": {},
   "outputs": [],
   "source": [
    "def simple_heuristic(file_path):\n",
    "    predictions = {}\n",
    "    df = pd.read_csv('titanic-data.csv')\n",
    "    for passenger_index, passenger in df.iterrows():\n",
    "        passenger_id = passenger['PassengerId']\n",
    "      \n",
    "        # Your code here:\n",
    "        # For example, let's assume that if the passenger\n",
    "        # is a male, then the passenger survived.\n",
    "        #     if passenger['Sex'] == 'male':\n",
    "        #         predictions[passenger_id] = 1\n",
    "        if (passenger.Sex=='male'):\n",
    "            predictions[passenger_id] = 0\n",
    "        else:\n",
    "            predictions[passenger_id] = 1\n",
    "            \n",
    "        \n",
    "    return predictions"
   ]
  },
  {
   "cell_type": "code",
   "execution_count": 3,
   "metadata": {},
   "outputs": [],
   "source": [
    "def complex_heuristic(file_path):\n",
    "    predictions = {}\n",
    "    df = pandas.read_csv(file_path)\n",
    "    for passenger_index, passenger in df.iterrows():\n",
    "        passenger_id = passenger['PassengerId']\n",
    "        # \n",
    "        # your code here\n",
    "        # for example, assuming that passengers who are male\n",
    "        # and older than 18 surived:\n",
    "        #     if passenger['Sex'] == 'male' or passenger['Age'] < 18:\n",
    "        #         predictions[passenger_id] = 1\n",
    "        # \n",
    "        if passenger.Sex=='male' or (passenger.Age>=18 and passenger.Pclass>2):\n",
    "            predictions[passenger_id] = 0\n",
    "        else:\n",
    "            predictions[passenger_id] = 1\n",
    "    return predictions"
   ]
  },
  {
   "cell_type": "code",
   "execution_count": 4,
   "metadata": {},
   "outputs": [],
   "source": [
    "def custom_heuristic(file_path):\n",
    "    predictions = {}\n",
    "    df = pandas.read_csv(file_path)\n",
    "    for passenger_index, passenger in df.iterrows():\n",
    "        #\n",
    "        # your code here\n",
    "        #\n",
    "        passenger_id = passenger['PassengerId']\n",
    "        if passenger.Sex=='male' or (passenger.Age>=5 and passenger.Pclass==3):\n",
    "            predictions[passenger_id] = 0\n",
    "        else:\n",
    "            predictions[passenger_id] = 1\n",
    "    return predictions"
   ]
  },
  {
   "cell_type": "code",
   "execution_count": null,
   "metadata": {},
   "outputs": [],
   "source": []
  }
 ],
 "metadata": {
  "kernelspec": {
   "display_name": "Python 3",
   "language": "python",
   "name": "python3"
  },
  "language_info": {
   "codemirror_mode": {
    "name": "ipython",
    "version": 3
   },
   "file_extension": ".py",
   "mimetype": "text/x-python",
   "name": "python",
   "nbconvert_exporter": "python",
   "pygments_lexer": "ipython3",
   "version": "3.8.5"
  }
 },
 "nbformat": 4,
 "nbformat_minor": 4
}
